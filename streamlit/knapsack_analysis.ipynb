{
 "cells": [
  {
   "cell_type": "code",
   "execution_count": 1,
   "metadata": {},
   "outputs": [],
   "source": [
    "import streamlit as st\n",
    "import numpy as np\n",
    "import matplotlib.pyplot as plt\n",
    "import seaborn as sns\n",
    "\n",
    "import pprint\n",
    "from deap import base, creator, tools, algorithms\n",
    "import pandas as pd\n",
    "from modules.knapsack_tools import ITEMS_KNAPSACK, MAX_CAPACITY, apply_tournament, KnapsackProblem, run_knapsack_tournament\n",
    "\n"
   ]
  },
  {
   "cell_type": "code",
   "execution_count": 2,
   "metadata": {},
   "outputs": [
    {
     "data": {
      "text/html": [
       "<div>\n",
       "<style scoped>\n",
       "    .dataframe tbody tr th:only-of-type {\n",
       "        vertical-align: middle;\n",
       "    }\n",
       "\n",
       "    .dataframe tbody tr th {\n",
       "        vertical-align: top;\n",
       "    }\n",
       "\n",
       "    .dataframe thead th {\n",
       "        text-align: right;\n",
       "    }\n",
       "</style>\n",
       "<table border=\"1\" class=\"dataframe\">\n",
       "  <thead>\n",
       "    <tr style=\"text-align: right;\">\n",
       "      <th></th>\n",
       "      <th>Unnamed: 0</th>\n",
       "      <th>max_found_at_generation</th>\n",
       "      <th>end_mean_fitness_population</th>\n",
       "      <th>end_max_fitness</th>\n",
       "      <th>initial_population</th>\n",
       "      <th>max_generation</th>\n",
       "      <th>crossover_probability</th>\n",
       "      <th>mutation_probability</th>\n",
       "      <th>selection_method</th>\n",
       "      <th>selection_strategy_name</th>\n",
       "      <th>k_value</th>\n",
       "    </tr>\n",
       "  </thead>\n",
       "  <tbody>\n",
       "    <tr>\n",
       "      <th>0</th>\n",
       "      <td>0</td>\n",
       "      <td>48</td>\n",
       "      <td>961.9</td>\n",
       "      <td>970.0</td>\n",
       "      <td>50</td>\n",
       "      <td>50</td>\n",
       "      <td>0.1</td>\n",
       "      <td>0.1</td>\n",
       "      <td>&lt;function selTournament at 0x00000213A144F520&gt;</td>\n",
       "      <td>Tournament</td>\n",
       "      <td>1</td>\n",
       "    </tr>\n",
       "    <tr>\n",
       "      <th>1</th>\n",
       "      <td>1</td>\n",
       "      <td>13</td>\n",
       "      <td>965.9</td>\n",
       "      <td>970.0</td>\n",
       "      <td>50</td>\n",
       "      <td>50</td>\n",
       "      <td>0.1</td>\n",
       "      <td>0.1</td>\n",
       "      <td>&lt;function selTournament at 0x00000213A144F520&gt;</td>\n",
       "      <td>Tournament</td>\n",
       "      <td>2</td>\n",
       "    </tr>\n",
       "    <tr>\n",
       "      <th>2</th>\n",
       "      <td>2</td>\n",
       "      <td>4</td>\n",
       "      <td>858.9</td>\n",
       "      <td>860.0</td>\n",
       "      <td>50</td>\n",
       "      <td>50</td>\n",
       "      <td>0.1</td>\n",
       "      <td>0.1</td>\n",
       "      <td>&lt;function selTournament at 0x00000213A144F520&gt;</td>\n",
       "      <td>Tournament</td>\n",
       "      <td>3</td>\n",
       "    </tr>\n",
       "    <tr>\n",
       "      <th>3</th>\n",
       "      <td>3</td>\n",
       "      <td>42</td>\n",
       "      <td>935.5</td>\n",
       "      <td>950.0</td>\n",
       "      <td>50</td>\n",
       "      <td>50</td>\n",
       "      <td>0.1</td>\n",
       "      <td>0.1</td>\n",
       "      <td>&lt;function selTournament at 0x00000213A144F520&gt;</td>\n",
       "      <td>Tournament</td>\n",
       "      <td>4</td>\n",
       "    </tr>\n",
       "    <tr>\n",
       "      <th>4</th>\n",
       "      <td>4</td>\n",
       "      <td>41</td>\n",
       "      <td>985.2</td>\n",
       "      <td>1000.0</td>\n",
       "      <td>50</td>\n",
       "      <td>50</td>\n",
       "      <td>0.1</td>\n",
       "      <td>0.2</td>\n",
       "      <td>&lt;function selTournament at 0x00000213A144F520&gt;</td>\n",
       "      <td>Tournament</td>\n",
       "      <td>1</td>\n",
       "    </tr>\n",
       "  </tbody>\n",
       "</table>\n",
       "</div>"
      ],
      "text/plain": [
       "   Unnamed: 0  max_found_at_generation  end_mean_fitness_population  \\\n",
       "0           0                       48                        961.9   \n",
       "1           1                       13                        965.9   \n",
       "2           2                        4                        858.9   \n",
       "3           3                       42                        935.5   \n",
       "4           4                       41                        985.2   \n",
       "\n",
       "   end_max_fitness  initial_population  max_generation  crossover_probability  \\\n",
       "0            970.0                  50              50                    0.1   \n",
       "1            970.0                  50              50                    0.1   \n",
       "2            860.0                  50              50                    0.1   \n",
       "3            950.0                  50              50                    0.1   \n",
       "4           1000.0                  50              50                    0.1   \n",
       "\n",
       "   mutation_probability                                selection_method  \\\n",
       "0                   0.1  <function selTournament at 0x00000213A144F520>   \n",
       "1                   0.1  <function selTournament at 0x00000213A144F520>   \n",
       "2                   0.1  <function selTournament at 0x00000213A144F520>   \n",
       "3                   0.1  <function selTournament at 0x00000213A144F520>   \n",
       "4                   0.2  <function selTournament at 0x00000213A144F520>   \n",
       "\n",
       "  selection_strategy_name  k_value  \n",
       "0              Tournament        1  \n",
       "1              Tournament        2  \n",
       "2              Tournament        3  \n",
       "3              Tournament        4  \n",
       "4              Tournament        1  "
      ]
     },
     "execution_count": 2,
     "metadata": {},
     "output_type": "execute_result"
    }
   ],
   "source": [
    "df_full_knapsack = pd.read_csv('reports/knapsack_full_experiments.csv')\n",
    "df_full_knapsack.head()"
   ]
  },
  {
   "cell_type": "code",
   "execution_count": 3,
   "metadata": {},
   "outputs": [
    {
     "data": {
      "text/plain": [
       "Index(['Unnamed: 0', 'max_found_at_generation', 'end_mean_fitness_population',\n",
       "       'end_max_fitness', 'initial_population', 'max_generation',\n",
       "       'crossover_probability', 'mutation_probability', 'selection_method',\n",
       "       'selection_strategy_name', 'k_value'],\n",
       "      dtype='object')"
      ]
     },
     "execution_count": 3,
     "metadata": {},
     "output_type": "execute_result"
    }
   ],
   "source": [
    "# Finding if any, the difference between computing using Torunament or Roulette\n",
    "df_full_knapsack.columns"
   ]
  },
  {
   "cell_type": "code",
   "execution_count": 4,
   "metadata": {},
   "outputs": [
    {
     "data": {
      "text/html": [
       "<div>\n",
       "<style scoped>\n",
       "    .dataframe tbody tr th:only-of-type {\n",
       "        vertical-align: middle;\n",
       "    }\n",
       "\n",
       "    .dataframe tbody tr th {\n",
       "        vertical-align: top;\n",
       "    }\n",
       "\n",
       "    .dataframe thead th {\n",
       "        text-align: right;\n",
       "    }\n",
       "</style>\n",
       "<table border=\"1\" class=\"dataframe\">\n",
       "  <thead>\n",
       "    <tr style=\"text-align: right;\">\n",
       "      <th></th>\n",
       "      <th>Unnamed: 0</th>\n",
       "      <th>max_found_at_generation</th>\n",
       "      <th>end_mean_fitness_population</th>\n",
       "      <th>end_max_fitness</th>\n",
       "      <th>initial_population</th>\n",
       "      <th>max_generation</th>\n",
       "      <th>crossover_probability</th>\n",
       "      <th>mutation_probability</th>\n",
       "      <th>k_value</th>\n",
       "    </tr>\n",
       "  </thead>\n",
       "  <tbody>\n",
       "    <tr>\n",
       "      <th>count</th>\n",
       "      <td>1728.000000</td>\n",
       "      <td>1728.000000</td>\n",
       "      <td>1728.000000</td>\n",
       "      <td>1728.000000</td>\n",
       "      <td>1728.000000</td>\n",
       "      <td>1728.000000</td>\n",
       "      <td>1728.000000</td>\n",
       "      <td>1728.000000</td>\n",
       "      <td>1728.000000</td>\n",
       "    </tr>\n",
       "    <tr>\n",
       "      <th>mean</th>\n",
       "      <td>863.500000</td>\n",
       "      <td>25.643519</td>\n",
       "      <td>1002.413180</td>\n",
       "      <td>1019.622685</td>\n",
       "      <td>300.000000</td>\n",
       "      <td>100.000000</td>\n",
       "      <td>0.250000</td>\n",
       "      <td>0.250000</td>\n",
       "      <td>2.500000</td>\n",
       "    </tr>\n",
       "    <tr>\n",
       "      <th>std</th>\n",
       "      <td>498.974949</td>\n",
       "      <td>28.491106</td>\n",
       "      <td>22.614099</td>\n",
       "      <td>22.648084</td>\n",
       "      <td>204.183235</td>\n",
       "      <td>40.836647</td>\n",
       "      <td>0.111836</td>\n",
       "      <td>0.111836</td>\n",
       "      <td>1.118358</td>\n",
       "    </tr>\n",
       "    <tr>\n",
       "      <th>min</th>\n",
       "      <td>0.000000</td>\n",
       "      <td>1.000000</td>\n",
       "      <td>858.900000</td>\n",
       "      <td>860.000000</td>\n",
       "      <td>50.000000</td>\n",
       "      <td>50.000000</td>\n",
       "      <td>0.100000</td>\n",
       "      <td>0.100000</td>\n",
       "      <td>1.000000</td>\n",
       "    </tr>\n",
       "    <tr>\n",
       "      <th>25%</th>\n",
       "      <td>431.750000</td>\n",
       "      <td>9.000000</td>\n",
       "      <td>998.042500</td>\n",
       "      <td>1030.000000</td>\n",
       "      <td>50.000000</td>\n",
       "      <td>50.000000</td>\n",
       "      <td>0.175000</td>\n",
       "      <td>0.175000</td>\n",
       "      <td>1.750000</td>\n",
       "    </tr>\n",
       "    <tr>\n",
       "      <th>50%</th>\n",
       "      <td>863.500000</td>\n",
       "      <td>13.000000</td>\n",
       "      <td>1008.349091</td>\n",
       "      <td>1030.000000</td>\n",
       "      <td>300.000000</td>\n",
       "      <td>100.000000</td>\n",
       "      <td>0.250000</td>\n",
       "      <td>0.250000</td>\n",
       "      <td>2.500000</td>\n",
       "    </tr>\n",
       "    <tr>\n",
       "      <th>75%</th>\n",
       "      <td>1295.250000</td>\n",
       "      <td>31.000000</td>\n",
       "      <td>1016.942273</td>\n",
       "      <td>1030.000000</td>\n",
       "      <td>550.000000</td>\n",
       "      <td>150.000000</td>\n",
       "      <td>0.325000</td>\n",
       "      <td>0.325000</td>\n",
       "      <td>3.250000</td>\n",
       "    </tr>\n",
       "    <tr>\n",
       "      <th>max</th>\n",
       "      <td>1727.000000</td>\n",
       "      <td>149.000000</td>\n",
       "      <td>1030.000000</td>\n",
       "      <td>1030.000000</td>\n",
       "      <td>550.000000</td>\n",
       "      <td>150.000000</td>\n",
       "      <td>0.400000</td>\n",
       "      <td>0.400000</td>\n",
       "      <td>4.000000</td>\n",
       "    </tr>\n",
       "  </tbody>\n",
       "</table>\n",
       "</div>"
      ],
      "text/plain": [
       "        Unnamed: 0  max_found_at_generation  end_mean_fitness_population  \\\n",
       "count  1728.000000              1728.000000                  1728.000000   \n",
       "mean    863.500000                25.643519                  1002.413180   \n",
       "std     498.974949                28.491106                    22.614099   \n",
       "min       0.000000                 1.000000                   858.900000   \n",
       "25%     431.750000                 9.000000                   998.042500   \n",
       "50%     863.500000                13.000000                  1008.349091   \n",
       "75%    1295.250000                31.000000                  1016.942273   \n",
       "max    1727.000000               149.000000                  1030.000000   \n",
       "\n",
       "       end_max_fitness  initial_population  max_generation  \\\n",
       "count      1728.000000         1728.000000     1728.000000   \n",
       "mean       1019.622685          300.000000      100.000000   \n",
       "std          22.648084          204.183235       40.836647   \n",
       "min         860.000000           50.000000       50.000000   \n",
       "25%        1030.000000           50.000000       50.000000   \n",
       "50%        1030.000000          300.000000      100.000000   \n",
       "75%        1030.000000          550.000000      150.000000   \n",
       "max        1030.000000          550.000000      150.000000   \n",
       "\n",
       "       crossover_probability  mutation_probability      k_value  \n",
       "count            1728.000000           1728.000000  1728.000000  \n",
       "mean                0.250000              0.250000     2.500000  \n",
       "std                 0.111836              0.111836     1.118358  \n",
       "min                 0.100000              0.100000     1.000000  \n",
       "25%                 0.175000              0.175000     1.750000  \n",
       "50%                 0.250000              0.250000     2.500000  \n",
       "75%                 0.325000              0.325000     3.250000  \n",
       "max                 0.400000              0.400000     4.000000  "
      ]
     },
     "execution_count": 4,
     "metadata": {},
     "output_type": "execute_result"
    }
   ],
   "source": [
    "df_full_knapsack.describe()"
   ]
  },
  {
   "cell_type": "code",
   "execution_count": 13,
   "metadata": {},
   "outputs": [
    {
     "name": "stdout",
     "output_type": "stream",
     "text": [
      "<class 'pandas.core.frame.DataFrame'>\n",
      "RangeIndex: 1728 entries, 0 to 1727\n",
      "Data columns (total 11 columns):\n",
      " #   Column                       Non-Null Count  Dtype  \n",
      "---  ------                       --------------  -----  \n",
      " 0   Unnamed: 0                   1728 non-null   int64  \n",
      " 1   max_found_at_generation      1728 non-null   int64  \n",
      " 2   end_mean_fitness_population  1728 non-null   float64\n",
      " 3   end_max_fitness              1728 non-null   float64\n",
      " 4   initial_population           1728 non-null   int64  \n",
      " 5   max_generation               1728 non-null   int64  \n",
      " 6   crossover_probability        1728 non-null   float64\n",
      " 7   mutation_probability         1728 non-null   float64\n",
      " 8   selection_method             1728 non-null   object \n",
      " 9   selection_strategy_name      1728 non-null   object \n",
      " 10  k_value                      1728 non-null   int64  \n",
      "dtypes: float64(4), int64(5), object(2)\n",
      "memory usage: 148.6+ KB\n"
     ]
    }
   ],
   "source": [
    "df_full_knapsack.info()"
   ]
  },
  {
   "cell_type": "code",
   "execution_count": 4,
   "metadata": {},
   "outputs": [
    {
     "data": {
      "text/plain": [
       "0        970.0\n",
       "1        970.0\n",
       "2        860.0\n",
       "3        950.0\n",
       "4       1000.0\n",
       "         ...  \n",
       "1723    1030.0\n",
       "1724    1030.0\n",
       "1725    1030.0\n",
       "1726    1030.0\n",
       "1727    1030.0\n",
       "Name: end_max_fitness, Length: 1728, dtype: float64"
      ]
     },
     "execution_count": 4,
     "metadata": {},
     "output_type": "execute_result"
    }
   ],
   "source": [
    "df_full_knapsack['end_max_fitness']"
   ]
  },
  {
   "cell_type": "code",
   "execution_count": 23,
   "metadata": {},
   "outputs": [
    {
     "data": {
      "text/plain": [
       "0       48\n",
       "1       13\n",
       "2        4\n",
       "3       42\n",
       "4       41\n",
       "        ..\n",
       "1723     8\n",
       "1724    10\n",
       "1725     8\n",
       "1726     6\n",
       "1727     5\n",
       "Name: max_found_at_generation, Length: 1728, dtype: int64"
      ]
     },
     "execution_count": 23,
     "metadata": {},
     "output_type": "execute_result"
    }
   ],
   "source": [
    "df_full_knapsack['max_found_at_generation']"
   ]
  },
  {
   "cell_type": "code",
   "execution_count": 9,
   "metadata": {},
   "outputs": [
    {
     "data": {
      "text/plain": [
       "<Axes: xlabel='end_max_fitness', ylabel='max_found_at_generation'>"
      ]
     },
     "execution_count": 9,
     "metadata": {},
     "output_type": "execute_result"
    }
   ],
   "source": [
    "# Correcting column name references and using 'hue' for color coding\n",
    "\n",
    "# sns.scatterplot(data=df_full_knapsack, \n",
    "#                 x='max_found_at_generation', \n",
    "#                 y='end_max_fitness')\n",
    "\n",
    "\n",
    "sns.scatterplot(\n",
    "                x=[1, 2, 3], \n",
    "                y=[1, 2, 3]\n",
    "                )"
   ]
  },
  {
   "cell_type": "code",
   "execution_count": 29,
   "metadata": {},
   "outputs": [
    {
     "name": "stderr",
     "output_type": "stream",
     "text": [
      "C:\\Users\\wangn\\AppData\\Local\\Temp\\ipykernel_36548\\538925895.py:5: UserWarning: Matplotlib is currently using agg, which is a non-GUI backend, so cannot show the figure.\n",
      "  plt.show()\n"
     ]
    }
   ],
   "source": [
    "plt.scatter(list(df_full_knapsack['end_max_fitness'])[:10], list(df_full_knapsack['max_found_at_generation'])[:10])\n",
    "plt.xlabel('end_max_fitness')\n",
    "plt.ylabel('max_found_at_generation')\n",
    "plt.title('end_max_fitness vs max_found_at_generation')\n",
    "plt.show()"
   ]
  },
  {
   "cell_type": "code",
   "execution_count": null,
   "metadata": {},
   "outputs": [],
   "source": []
  }
 ],
 "metadata": {
  "kernelspec": {
   "display_name": "Python 3",
   "language": "python",
   "name": "python3"
  },
  "language_info": {
   "codemirror_mode": {
    "name": "ipython",
    "version": 3
   },
   "file_extension": ".py",
   "mimetype": "text/x-python",
   "name": "python",
   "nbconvert_exporter": "python",
   "pygments_lexer": "ipython3",
   "version": "3.10.5"
  }
 },
 "nbformat": 4,
 "nbformat_minor": 2
}
