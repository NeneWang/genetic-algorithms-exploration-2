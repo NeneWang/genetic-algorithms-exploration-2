{
 "cells": [
  {
   "cell_type": "code",
   "execution_count": 1,
   "metadata": {},
   "outputs": [],
   "source": [
    "import streamlit as st\n",
    "import numpy as np\n",
    "import matplotlib.pyplot as plt\n",
    "import seaborn as sns\n",
    "\n",
    "import pandas as pd\n"
   ]
  },
  {
   "cell_type": "code",
   "execution_count": 2,
   "metadata": {},
   "outputs": [
    {
     "data": {
      "text/html": [
       "<div>\n",
       "<style scoped>\n",
       "    .dataframe tbody tr th:only-of-type {\n",
       "        vertical-align: middle;\n",
       "    }\n",
       "\n",
       "    .dataframe tbody tr th {\n",
       "        vertical-align: top;\n",
       "    }\n",
       "\n",
       "    .dataframe thead th {\n",
       "        text-align: right;\n",
       "    }\n",
       "</style>\n",
       "<table border=\"1\" class=\"dataframe\">\n",
       "  <thead>\n",
       "    <tr style=\"text-align: right;\">\n",
       "      <th></th>\n",
       "      <th>Unnamed: 0</th>\n",
       "      <th>max_found_at_generation</th>\n",
       "      <th>end_mean_fitness_population</th>\n",
       "      <th>end_max_fitness</th>\n",
       "      <th>initial_population</th>\n",
       "      <th>max_generation</th>\n",
       "      <th>crossover_probability</th>\n",
       "      <th>mutation_probability</th>\n",
       "      <th>selection_method</th>\n",
       "      <th>selection_strategy_name</th>\n",
       "      <th>k_value</th>\n",
       "    </tr>\n",
       "  </thead>\n",
       "  <tbody>\n",
       "    <tr>\n",
       "      <th>0</th>\n",
       "      <td>0</td>\n",
       "      <td>2</td>\n",
       "      <td>906.70</td>\n",
       "      <td>910.0</td>\n",
       "      <td>50</td>\n",
       "      <td>10</td>\n",
       "      <td>0.1</td>\n",
       "      <td>0.1</td>\n",
       "      <td>&lt;function selTournament at 0x000002016523F400&gt;</td>\n",
       "      <td>Tournament</td>\n",
       "      <td>1</td>\n",
       "    </tr>\n",
       "    <tr>\n",
       "      <th>1</th>\n",
       "      <td>1</td>\n",
       "      <td>8</td>\n",
       "      <td>963.94</td>\n",
       "      <td>1002.0</td>\n",
       "      <td>50</td>\n",
       "      <td>10</td>\n",
       "      <td>0.1</td>\n",
       "      <td>0.1</td>\n",
       "      <td>&lt;function selTournament at 0x000002016523F400&gt;</td>\n",
       "      <td>Tournament</td>\n",
       "      <td>2</td>\n",
       "    </tr>\n",
       "    <tr>\n",
       "      <th>2</th>\n",
       "      <td>2</td>\n",
       "      <td>2</td>\n",
       "      <td>927.54</td>\n",
       "      <td>935.0</td>\n",
       "      <td>50</td>\n",
       "      <td>10</td>\n",
       "      <td>0.1</td>\n",
       "      <td>0.2</td>\n",
       "      <td>&lt;function selTournament at 0x000002016523F400&gt;</td>\n",
       "      <td>Tournament</td>\n",
       "      <td>1</td>\n",
       "    </tr>\n",
       "    <tr>\n",
       "      <th>3</th>\n",
       "      <td>3</td>\n",
       "      <td>7</td>\n",
       "      <td>892.24</td>\n",
       "      <td>920.0</td>\n",
       "      <td>50</td>\n",
       "      <td>10</td>\n",
       "      <td>0.1</td>\n",
       "      <td>0.2</td>\n",
       "      <td>&lt;function selTournament at 0x000002016523F400&gt;</td>\n",
       "      <td>Tournament</td>\n",
       "      <td>2</td>\n",
       "    </tr>\n",
       "    <tr>\n",
       "      <th>4</th>\n",
       "      <td>4</td>\n",
       "      <td>7</td>\n",
       "      <td>896.22</td>\n",
       "      <td>937.0</td>\n",
       "      <td>50</td>\n",
       "      <td>10</td>\n",
       "      <td>0.1</td>\n",
       "      <td>0.3</td>\n",
       "      <td>&lt;function selTournament at 0x000002016523F400&gt;</td>\n",
       "      <td>Tournament</td>\n",
       "      <td>1</td>\n",
       "    </tr>\n",
       "  </tbody>\n",
       "</table>\n",
       "</div>"
      ],
      "text/plain": [
       "   Unnamed: 0  max_found_at_generation  end_mean_fitness_population  \\\n",
       "0           0                        2                       906.70   \n",
       "1           1                        8                       963.94   \n",
       "2           2                        2                       927.54   \n",
       "3           3                        7                       892.24   \n",
       "4           4                        7                       896.22   \n",
       "\n",
       "   end_max_fitness  initial_population  max_generation  crossover_probability  \\\n",
       "0            910.0                  50              10                    0.1   \n",
       "1           1002.0                  50              10                    0.1   \n",
       "2            935.0                  50              10                    0.1   \n",
       "3            920.0                  50              10                    0.1   \n",
       "4            937.0                  50              10                    0.1   \n",
       "\n",
       "   mutation_probability                                selection_method  \\\n",
       "0                   0.1  <function selTournament at 0x000002016523F400>   \n",
       "1                   0.1  <function selTournament at 0x000002016523F400>   \n",
       "2                   0.2  <function selTournament at 0x000002016523F400>   \n",
       "3                   0.2  <function selTournament at 0x000002016523F400>   \n",
       "4                   0.3  <function selTournament at 0x000002016523F400>   \n",
       "\n",
       "  selection_strategy_name  k_value  \n",
       "0              Tournament        1  \n",
       "1              Tournament        2  \n",
       "2              Tournament        1  \n",
       "3              Tournament        2  \n",
       "4              Tournament        1  "
      ]
     },
     "execution_count": 2,
     "metadata": {},
     "output_type": "execute_result"
    }
   ],
   "source": [
    "df_full_knapsack = pd.read_csv('reports/knapsack__smallerexperiments.csv')\n",
    "df_full_knapsack.head()"
   ]
  },
  {
   "cell_type": "code",
   "execution_count": 3,
   "metadata": {},
   "outputs": [
    {
     "data": {
      "text/plain": [
       "max_generation  selection_strategy_name\n",
       "10              Best                       11\n",
       "                Roulette                    8\n",
       "                Tournament                  9\n",
       "11              Best                       12\n",
       "                Roulette                    7\n",
       "                                           ..\n",
       "38              Roulette                   44\n",
       "                Tournament                 42\n",
       "39              Best                       40\n",
       "                Roulette                   47\n",
       "                Tournament                 38\n",
       "Name: selection_method, Length: 90, dtype: int64"
      ]
     },
     "execution_count": 3,
     "metadata": {},
     "output_type": "execute_result"
    }
   ],
   "source": [
    "\n",
    "selected_max_df = df_full_knapsack[df_full_knapsack['end_max_fitness'] >= 1020]\n",
    "\n",
    "# groupby max_generation and selection_strategy_name\n",
    "gb_ = selected_max_df.groupby(['max_generation', 'selection_strategy_name'])\n",
    "generations = gb_.count()['selection_method']\n",
    "generations"
   ]
  },
  {
   "cell_type": "code",
   "execution_count": 4,
   "metadata": {},
   "outputs": [
    {
     "data": {
      "text/plain": [
       "<matplotlib.axes._subplots.AxesSubplot at 0x1e313f24460>"
      ]
     },
     "execution_count": 4,
     "metadata": {},
     "output_type": "execute_result"
    },
    {
     "data": {
      "image/png": "[encoded data removed]",
      "text/plain": [
       "<Figure size 432x288 with 1 Axes>"
      ]
     },
     "metadata": {
      "needs_background": "light"
     },
     "output_type": "display_data"
    }
   ],
   "source": [
    "generations.unstack().plot(kind='bar', stacked=True)"
   ]
  },
  {
   "cell_type": "code",
   "execution_count": 10,
   "metadata": {},
   "outputs": [
    {
     "data": {
      "text/plain": [
       "max_generation  k_value\n",
       "10              1          13\n",
       "                2          15\n",
       "11              1          12\n",
       "                2          23\n",
       "12              1          20\n",
       "                2          27\n",
       "13              1          26\n",
       "                2          25\n",
       "14              1          32\n",
       "                2          29\n",
       "15              1          35\n",
       "                2          36\n",
       "16              1          30\n",
       "                2          47\n",
       "17              1          38\n",
       "                2          47\n",
       "18              1          48\n",
       "                2          50\n",
       "19              1          55\n",
       "                2          45\n",
       "20              1          45\n",
       "                2          50\n",
       "21              1          46\n",
       "                2          45\n",
       "22              1          44\n",
       "                2          53\n",
       "23              1          43\n",
       "                2          47\n",
       "24              1          47\n",
       "                2          55\n",
       "25              1          44\n",
       "                2          39\n",
       "26              1          49\n",
       "                2          56\n",
       "27              1          60\n",
       "                2          53\n",
       "28              1          53\n",
       "                2          50\n",
       "29              1          60\n",
       "                2          50\n",
       "30              1          52\n",
       "                2          59\n",
       "31              1          62\n",
       "                2          47\n",
       "32              1          59\n",
       "                2          56\n",
       "33              1          64\n",
       "                2          61\n",
       "34              1          61\n",
       "                2          57\n",
       "35              1          56\n",
       "                2          59\n",
       "36              1          55\n",
       "                2          58\n",
       "37              1          65\n",
       "                2          58\n",
       "38              1          63\n",
       "                2          73\n",
       "39              1          65\n",
       "                2          60\n",
       "Name: selection_method, dtype: int64"
      ]
     },
     "execution_count": 10,
     "metadata": {},
     "output_type": "execute_result"
    }
   ],
   "source": [
    "# groupby max_generation and selection_strategy_name\n",
    "gb_parition = selected_max_df.groupby(['max_generation','k_value'])\n",
    "generations_k = gb_parition.count()['selection_method']\n",
    "generations_k"
   ]
  },
  {
   "cell_type": "code",
   "execution_count": 11,
   "metadata": {},
   "outputs": [
    {
     "data": {
      "text/plain": [
       "<matplotlib.axes._subplots.AxesSubplot at 0x1e3162731f0>"
      ]
     },
     "execution_count": 11,
     "metadata": {},
     "output_type": "execute_result"
    },
    {
     "data": {
      "image/png": "[encoded data removed]",
      "text/plain": [
       "<Figure size 432x288 with 1 Axes>"
      ]
     },
     "metadata": {
      "needs_background": "light"
     },
     "output_type": "display_data"
    }
   ],
   "source": [
    "generations_k.unstack().plot(kind='bar', stacked=True)"
   ]
  },
  {
   "cell_type": "code",
   "execution_count": 13,
   "metadata": {},
   "outputs": [
    {
     "data": {
      "text/plain": [
       "max_generation  crossover_probability\n",
       "10              0.1                       7\n",
       "                0.2                       5\n",
       "                0.3                       5\n",
       "                0.4                      11\n",
       "11              0.1                       2\n",
       "                                         ..\n",
       "38              0.4                      37\n",
       "39              0.1                      26\n",
       "                0.2                      29\n",
       "                0.3                      32\n",
       "                0.4                      38\n",
       "Name: selection_method, Length: 120, dtype: int64"
      ]
     },
     "execution_count": 13,
     "metadata": {},
     "output_type": "execute_result"
    }
   ],
   "source": [
    "gb_parition = selected_max_df.groupby(['max_generation','crossover_probability'])\n",
    "generations_p = gb_parition.count()['selection_method']\n",
    "generations_p"
   ]
  },
  {
   "cell_type": "code",
   "execution_count": 15,
   "metadata": {},
   "outputs": [
    {
     "data": {
      "text/plain": [
       "<matplotlib.axes._subplots.AxesSubplot at 0x1e31b520a30>"
      ]
     },
     "execution_count": 15,
     "metadata": {},
     "output_type": "execute_result"
    },
    {
     "data": {
      "image/png": "[encoded data removed]",
      "text/plain": [
       "<Figure size 432x288 with 1 Axes>"
      ]
     },
     "metadata": {
      "needs_background": "light"
     },
     "output_type": "display_data"
    }
   ],
   "source": [
    "generations_p.unstack().plot(kind='bar', stacked=True, title=\"count where >1020\")"
   ]
  },
  {
   "cell_type": "code",
   "execution_count": 16,
   "metadata": {},
   "outputs": [
    {
     "data": {
      "text/plain": [
       "max_generation  mutation_probability\n",
       "10              0.1                      3\n",
       "                0.2                      7\n",
       "                0.3                      6\n",
       "                0.4                     12\n",
       "11              0.1                      7\n",
       "                                        ..\n",
       "38              0.4                     43\n",
       "39              0.1                     16\n",
       "                0.2                     38\n",
       "                0.3                     32\n",
       "                0.4                     39\n",
       "Name: selection_method, Length: 120, dtype: int64"
      ]
     },
     "execution_count": 16,
     "metadata": {},
     "output_type": "execute_result"
    }
   ],
   "source": [
    "gb_parition = selected_max_df.groupby(['max_generation','mutation_probability'])\n",
    "generations_m = gb_parition.count()['selection_method']\n",
    "generations_m"
   ]
  },
  {
   "cell_type": "code",
   "execution_count": 17,
   "metadata": {},
   "outputs": [
    {
     "data": {
      "text/plain": [
       "<matplotlib.axes._subplots.AxesSubplot at 0x1e31b4c0dc0>"
      ]
     },
     "execution_count": 17,
     "metadata": {},
     "output_type": "execute_result"
    },
    {
     "data": {
      "image/png": "[encoded data removed]",
      "text/plain": [
       "<Figure size 432x288 with 1 Axes>"
      ]
     },
     "metadata": {
      "needs_background": "light"
     },
     "output_type": "display_data"
    }
   ],
   "source": [
    "generations_m.unstack().plot(kind='bar', stacked=True, title=\"count where >1020\")"
   ]
  },
  {
   "cell_type": "code",
   "execution_count": null,
   "metadata": {},
   "outputs": [],
   "source": []
  },
  {
   "cell_type": "code",
   "execution_count": null,
   "metadata": {},
   "outputs": [],
   "source": []
  },
  {
   "cell_type": "code",
   "execution_count": 6,
   "metadata": {},
   "outputs": [
    {
     "data": {
      "text/html": [
       "<div>\n",
       "<style scoped>\n",
       "    .dataframe tbody tr th:only-of-type {\n",
       "        vertical-align: middle;\n",
       "    }\n",
       "\n",
       "    .dataframe tbody tr th {\n",
       "        vertical-align: top;\n",
       "    }\n",
       "\n",
       "    .dataframe thead th {\n",
       "        text-align: right;\n",
       "    }\n",
       "</style>\n",
       "<table border=\"1\" class=\"dataframe\">\n",
       "  <thead>\n",
       "    <tr style=\"text-align: right;\">\n",
       "      <th></th>\n",
       "      <th>Unnamed: 0</th>\n",
       "      <th>max_found_at_generation</th>\n",
       "      <th>end_mean_fitness_population</th>\n",
       "      <th>end_max_fitness</th>\n",
       "      <th>initial_population</th>\n",
       "      <th>max_generation</th>\n",
       "      <th>crossover_probability</th>\n",
       "      <th>mutation_probability</th>\n",
       "      <th>selection_method</th>\n",
       "      <th>selection_strategy_name</th>\n",
       "      <th>k_value</th>\n",
       "    </tr>\n",
       "  </thead>\n",
       "  <tbody>\n",
       "    <tr>\n",
       "      <th>0</th>\n",
       "      <td>0</td>\n",
       "      <td>1</td>\n",
       "      <td>697.02</td>\n",
       "      <td>860.0</td>\n",
       "      <td>50</td>\n",
       "      <td>1</td>\n",
       "      <td>0.1</td>\n",
       "      <td>0.1</td>\n",
       "      <td>&lt;function selTournament at 0x000001B015FEF400&gt;</td>\n",
       "      <td>Tournament</td>\n",
       "      <td>1</td>\n",
       "    </tr>\n",
       "    <tr>\n",
       "      <th>1</th>\n",
       "      <td>1</td>\n",
       "      <td>1</td>\n",
       "      <td>685.44</td>\n",
       "      <td>920.0</td>\n",
       "      <td>50</td>\n",
       "      <td>1</td>\n",
       "      <td>0.1</td>\n",
       "      <td>0.1</td>\n",
       "      <td>&lt;function selTournament at 0x000001B015FEF400&gt;</td>\n",
       "      <td>Tournament</td>\n",
       "      <td>2</td>\n",
       "    </tr>\n",
       "    <tr>\n",
       "      <th>2</th>\n",
       "      <td>2</td>\n",
       "      <td>1</td>\n",
       "      <td>699.78</td>\n",
       "      <td>892.0</td>\n",
       "      <td>50</td>\n",
       "      <td>1</td>\n",
       "      <td>0.1</td>\n",
       "      <td>0.2</td>\n",
       "      <td>&lt;function selTournament at 0x000001B015FEF400&gt;</td>\n",
       "      <td>Tournament</td>\n",
       "      <td>1</td>\n",
       "    </tr>\n",
       "    <tr>\n",
       "      <th>3</th>\n",
       "      <td>3</td>\n",
       "      <td>1</td>\n",
       "      <td>717.02</td>\n",
       "      <td>887.0</td>\n",
       "      <td>50</td>\n",
       "      <td>1</td>\n",
       "      <td>0.1</td>\n",
       "      <td>0.2</td>\n",
       "      <td>&lt;function selTournament at 0x000001B015FEF400&gt;</td>\n",
       "      <td>Tournament</td>\n",
       "      <td>2</td>\n",
       "    </tr>\n",
       "    <tr>\n",
       "      <th>4</th>\n",
       "      <td>4</td>\n",
       "      <td>1</td>\n",
       "      <td>710.72</td>\n",
       "      <td>880.0</td>\n",
       "      <td>50</td>\n",
       "      <td>1</td>\n",
       "      <td>0.1</td>\n",
       "      <td>0.3</td>\n",
       "      <td>&lt;function selTournament at 0x000001B015FEF400&gt;</td>\n",
       "      <td>Tournament</td>\n",
       "      <td>1</td>\n",
       "    </tr>\n",
       "  </tbody>\n",
       "</table>\n",
       "</div>"
      ],
      "text/plain": [
       "   Unnamed: 0  max_found_at_generation  end_mean_fitness_population  \\\n",
       "0           0                        1                       697.02   \n",
       "1           1                        1                       685.44   \n",
       "2           2                        1                       699.78   \n",
       "3           3                        1                       717.02   \n",
       "4           4                        1                       710.72   \n",
       "\n",
       "   end_max_fitness  initial_population  max_generation  crossover_probability  \\\n",
       "0            860.0                  50               1                    0.1   \n",
       "1            920.0                  50               1                    0.1   \n",
       "2            892.0                  50               1                    0.1   \n",
       "3            887.0                  50               1                    0.1   \n",
       "4            880.0                  50               1                    0.1   \n",
       "\n",
       "   mutation_probability                                selection_method  \\\n",
       "0                   0.1  <function selTournament at 0x000001B015FEF400>   \n",
       "1                   0.1  <function selTournament at 0x000001B015FEF400>   \n",
       "2                   0.2  <function selTournament at 0x000001B015FEF400>   \n",
       "3                   0.2  <function selTournament at 0x000001B015FEF400>   \n",
       "4                   0.3  <function selTournament at 0x000001B015FEF400>   \n",
       "\n",
       "  selection_strategy_name  k_value  \n",
       "0              Tournament        1  \n",
       "1              Tournament        2  \n",
       "2              Tournament        1  \n",
       "3              Tournament        2  \n",
       "4              Tournament        1  "
      ]
     },
     "execution_count": 6,
     "metadata": {},
     "output_type": "execute_result"
    }
   ],
   "source": [
    "df_samll10_knapsack = pd.read_csv('reports/knapsack__smaller10_experiments.csv')\n",
    "df_samll10_knapsack.head()\n"
   ]
  },
  {
   "cell_type": "code",
   "execution_count": null,
   "metadata": {},
   "outputs": [],
   "source": []
  }
 ],
 "metadata": {
  "kernelspec": {
   "display_name": "Python 3",
   "language": "python",
   "name": "python3"
  },
  "language_info": {
   "codemirror_mode": {
    "name": "ipython",
    "version": 3
   },
   "file_extension": ".py",
   "mimetype": "text/x-python",
   "name": "python",
   "nbconvert_exporter": "python",
   "pygments_lexer": "ipython3",
   "version": "3.8.3"
  }
 },
 "nbformat": 4,
 "nbformat_minor": 2
}
